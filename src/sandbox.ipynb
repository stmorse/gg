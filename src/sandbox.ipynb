{
 "cells": [
  {
   "cell_type": "code",
   "execution_count": null,
   "metadata": {},
   "outputs": [],
   "source": [
    "# find group name and sizes\n",
    "# pick a group\n",
    "\n",
    "# get embeddings for that group\n",
    "# find topics\n",
    "# find user membership across topics"
   ]
  },
  {
   "cell_type": "code",
   "execution_count": 1,
   "metadata": {},
   "outputs": [],
   "source": [
    "import json\n",
    "import os\n",
    "\n",
    "import bz2\n",
    "\n",
    "import matplotlib.pyplot as plt\n",
    "import numpy as np\n",
    "import pandas as pd\n",
    "\n",
    "import utils"
   ]
  },
  {
   "cell_type": "code",
   "execution_count": 2,
   "metadata": {},
   "outputs": [],
   "source": [
    "%load_ext autoreload\n",
    "%autoreload 2"
   ]
  },
  {
   "cell_type": "code",
   "execution_count": 3,
   "metadata": {},
   "outputs": [],
   "source": [
    "DATA_PATH = '/sciclone/data10/twford/reddit/reddit/comments/'"
   ]
  },
  {
   "cell_type": "code",
   "execution_count": 16,
   "metadata": {},
   "outputs": [],
   "source": [
    "soi = 'movies'\n",
    "\n",
    "metadata = ['id', 'name', 'created_utc', 'parent_id', \n",
    "            'subreddit', 'subreddit_id', 'author']\n",
    "\n",
    "reader = utils.read_file(\n",
    "    os.path.join(DATA_PATH, 'RC_2010-01.bz2'), \n",
    "    return_type='metadata',\n",
    "    metadata=metadata, \n",
    "    chunk_size=10000\n",
    ")\n",
    "\n",
    "res = []\n",
    "\n",
    "# k will keep track of line and should align with embeddings\n",
    "k = 0\n",
    "for chunk in reader:\n",
    "    for entry in chunk:\n",
    "        if entry['subreddit'] == soi:\n",
    "            entry['idx'] = k\n",
    "            res.append(entry)\n",
    "        k += 1"
   ]
  },
  {
   "cell_type": "code",
   "execution_count": 17,
   "metadata": {},
   "outputs": [
    {
     "data": {
      "text/html": [
       "<div>\n",
       "<style scoped>\n",
       "    .dataframe tbody tr th:only-of-type {\n",
       "        vertical-align: middle;\n",
       "    }\n",
       "\n",
       "    .dataframe tbody tr th {\n",
       "        vertical-align: top;\n",
       "    }\n",
       "\n",
       "    .dataframe thead th {\n",
       "        text-align: right;\n",
       "    }\n",
       "</style>\n",
       "<table border=\"1\" class=\"dataframe\">\n",
       "  <thead>\n",
       "    <tr style=\"text-align: right;\">\n",
       "      <th></th>\n",
       "      <th>id</th>\n",
       "      <th>name</th>\n",
       "      <th>created_utc</th>\n",
       "      <th>parent_id</th>\n",
       "      <th>subreddit</th>\n",
       "      <th>subreddit_id</th>\n",
       "      <th>author</th>\n",
       "      <th>idx</th>\n",
       "    </tr>\n",
       "  </thead>\n",
       "  <tbody>\n",
       "    <tr>\n",
       "      <th>0</th>\n",
       "      <td>c0i12y9</td>\n",
       "      <td>t1_c0i12y9</td>\n",
       "      <td>1262304136</td>\n",
       "      <td>t3_akd1b</td>\n",
       "      <td>movies</td>\n",
       "      <td>t5_2qh3s</td>\n",
       "      <td>bbittner</td>\n",
       "      <td>69</td>\n",
       "    </tr>\n",
       "    <tr>\n",
       "      <th>1</th>\n",
       "      <td>c0i12yf</td>\n",
       "      <td>t1_c0i12yf</td>\n",
       "      <td>1262304145</td>\n",
       "      <td>t1_c0i0xg6</td>\n",
       "      <td>movies</td>\n",
       "      <td>t5_2qh3s</td>\n",
       "      <td>passingby</td>\n",
       "      <td>75</td>\n",
       "    </tr>\n",
       "    <tr>\n",
       "      <th>2</th>\n",
       "      <td>c0i136p</td>\n",
       "      <td>t1_c0i136p</td>\n",
       "      <td>1262304464</td>\n",
       "      <td>t3_akc13</td>\n",
       "      <td>movies</td>\n",
       "      <td>t5_2qh3s</td>\n",
       "      <td>andhelostthem</td>\n",
       "      <td>293</td>\n",
       "    </tr>\n",
       "    <tr>\n",
       "      <th>3</th>\n",
       "      <td>c0i13at</td>\n",
       "      <td>t1_c0i13at</td>\n",
       "      <td>1262304618</td>\n",
       "      <td>t1_c0i0y0u</td>\n",
       "      <td>movies</td>\n",
       "      <td>t5_2qh3s</td>\n",
       "      <td>Wrathwilde</td>\n",
       "      <td>411</td>\n",
       "    </tr>\n",
       "    <tr>\n",
       "      <th>4</th>\n",
       "      <td>c0i13mq</td>\n",
       "      <td>t1_c0i13mq</td>\n",
       "      <td>1262305018</td>\n",
       "      <td>t3_akd1b</td>\n",
       "      <td>movies</td>\n",
       "      <td>t5_2qh3s</td>\n",
       "      <td>rawbinm</td>\n",
       "      <td>752</td>\n",
       "    </tr>\n",
       "  </tbody>\n",
       "</table>\n",
       "</div>"
      ],
      "text/plain": [
       "        id        name created_utc   parent_id subreddit subreddit_id  \\\n",
       "0  c0i12y9  t1_c0i12y9  1262304136    t3_akd1b    movies     t5_2qh3s   \n",
       "1  c0i12yf  t1_c0i12yf  1262304145  t1_c0i0xg6    movies     t5_2qh3s   \n",
       "2  c0i136p  t1_c0i136p  1262304464    t3_akc13    movies     t5_2qh3s   \n",
       "3  c0i13at  t1_c0i13at  1262304618  t1_c0i0y0u    movies     t5_2qh3s   \n",
       "4  c0i13mq  t1_c0i13mq  1262305018    t3_akd1b    movies     t5_2qh3s   \n",
       "\n",
       "          author  idx  \n",
       "0       bbittner   69  \n",
       "1      passingby   75  \n",
       "2  andhelostthem  293  \n",
       "3     Wrathwilde  411  \n",
       "4        rawbinm  752  "
      ]
     },
     "execution_count": 17,
     "metadata": {},
     "output_type": "execute_result"
    }
   ],
   "source": [
    "df_res = pd.DataFrame(res)\n",
    "df_res.head()"
   ]
  },
  {
   "cell_type": "code",
   "execution_count": 23,
   "metadata": {},
   "outputs": [],
   "source": [
    "embeddings = utils.load_embeddings(2010, 1)\n",
    "\n",
    "# grab just within subreddit\n",
    "idx = df_res['idx'].values\n",
    "embeddings = embeddings[idx]"
   ]
  },
  {
   "cell_type": "code",
   "execution_count": 24,
   "metadata": {},
   "outputs": [
    {
     "data": {
      "text/plain": [
       "(13303, 384)"
      ]
     },
     "execution_count": 24,
     "metadata": {},
     "output_type": "execute_result"
    }
   ],
   "source": [
    "embeddings.shape"
   ]
  },
  {
   "cell_type": "code",
   "execution_count": null,
   "metadata": {},
   "outputs": [],
   "source": []
  },
  {
   "cell_type": "code",
   "execution_count": null,
   "metadata": {},
   "outputs": [],
   "source": []
  }
 ],
 "metadata": {
  "kernelspec": {
   "display_name": "venv",
   "language": "python",
   "name": "python3"
  },
  "language_info": {
   "codemirror_mode": {
    "name": "ipython",
    "version": 3
   },
   "file_extension": ".py",
   "mimetype": "text/x-python",
   "name": "python",
   "nbconvert_exporter": "python",
   "pygments_lexer": "ipython3",
   "version": "3.12.7"
  }
 },
 "nbformat": 4,
 "nbformat_minor": 2
}
